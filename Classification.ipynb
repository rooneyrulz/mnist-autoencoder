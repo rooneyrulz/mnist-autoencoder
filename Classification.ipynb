{
 "cells": [
  {
   "cell_type": "code",
   "execution_count": 1,
   "id": "a614249f",
   "metadata": {},
   "outputs": [],
   "source": [
    "import numpy as np\n",
    "import pandas as pd\n",
    "import matplotlib.pyplot as plt"
   ]
  },
  {
   "cell_type": "code",
   "execution_count": 2,
   "id": "dfa81d04",
   "metadata": {},
   "outputs": [],
   "source": [
    "from tensorflow.keras.datasets import mnist"
   ]
  },
  {
   "cell_type": "code",
   "execution_count": 3,
   "id": "c6bf506e",
   "metadata": {},
   "outputs": [],
   "source": [
    "(X_train, y_train), (X_test, y_test) = mnist.load_data()"
   ]
  },
  {
   "cell_type": "code",
   "execution_count": 4,
   "id": "df523e7b",
   "metadata": {},
   "outputs": [
    {
     "data": {
      "text/plain": [
       "<matplotlib.image.AxesImage at 0x2b404824580>"
      ]
     },
     "execution_count": 4,
     "metadata": {},
     "output_type": "execute_result"
    },
    {
     "data": {
      "image/png": "[encoded data removed]",
      "text/plain": [
       "<Figure size 432x288 with 1 Axes>"
      ]
     },
     "metadata": {
      "needs_background": "light"
     },
     "output_type": "display_data"
    }
   ],
   "source": [
    "# Visualize the first training image\n",
    "plt.imshow(X_train[0])"
   ]
  },
  {
   "cell_type": "code",
   "execution_count": 5,
   "id": "46eacdaf",
   "metadata": {},
   "outputs": [
    {
     "data": {
      "text/plain": [
       "(60000, 28, 28)"
      ]
     },
     "execution_count": 5,
     "metadata": {},
     "output_type": "execute_result"
    }
   ],
   "source": [
    "X_train.shape"
   ]
  },
  {
   "cell_type": "code",
   "execution_count": 6,
   "id": "a3b1ad1f",
   "metadata": {},
   "outputs": [
    {
     "data": {
      "text/plain": [
       "(10000, 28, 28)"
      ]
     },
     "execution_count": 6,
     "metadata": {},
     "output_type": "execute_result"
    }
   ],
   "source": [
    "X_test.shape"
   ]
  },
  {
   "cell_type": "code",
   "execution_count": 7,
   "id": "dd27ac5c",
   "metadata": {},
   "outputs": [
    {
     "data": {
      "text/plain": [
       "255"
      ]
     },
     "execution_count": 7,
     "metadata": {},
     "output_type": "execute_result"
    }
   ],
   "source": [
    "X_train.max()"
   ]
  },
  {
   "cell_type": "code",
   "execution_count": 8,
   "id": "4f44de6e",
   "metadata": {},
   "outputs": [
    {
     "data": {
      "text/plain": [
       "0"
      ]
     },
     "execution_count": 8,
     "metadata": {},
     "output_type": "execute_result"
    }
   ],
   "source": [
    "X_train.min()"
   ]
  },
  {
   "cell_type": "code",
   "execution_count": 9,
   "id": "88851541",
   "metadata": {},
   "outputs": [
    {
     "data": {
      "text/plain": [
       "5"
      ]
     },
     "execution_count": 9,
     "metadata": {},
     "output_type": "execute_result"
    }
   ],
   "source": [
    "y_train[0]"
   ]
  },
  {
   "cell_type": "code",
   "execution_count": 10,
   "id": "444c894f",
   "metadata": {},
   "outputs": [],
   "source": [
    "# Scaling the train set\n",
    "X_train = X_train/255"
   ]
  },
  {
   "cell_type": "code",
   "execution_count": 11,
   "id": "5336b251",
   "metadata": {},
   "outputs": [],
   "source": [
    "# Scaling the test set\n",
    "X_test = X_test/255"
   ]
  },
  {
   "cell_type": "code",
   "execution_count": 12,
   "id": "8306f94f",
   "metadata": {},
   "outputs": [],
   "source": [
    "from tensorflow.keras.models import Sequential\n",
    "from tensorflow.keras.layers import Dense,Flatten,Reshape\n",
    "from tensorflow.keras.optimizers import SGD"
   ]
  },
  {
   "cell_type": "code",
   "execution_count": 13,
   "id": "52f81aa2",
   "metadata": {},
   "outputs": [],
   "source": [
    "# Enocder\n",
    "encoder = Sequential()\n",
    "encoder.add(Flatten(input_shape=[28,28]))\n",
    "encoder.add(Dense(400,activation='relu'))\n",
    "encoder.add(Dense(200,activation='relu'))\n",
    "encoder.add(Dense(100,activation='relu'))\n",
    "encoder.add(Dense(50,activation='relu'))\n",
    "encoder.add(Dense(25,activation='relu'))"
   ]
  },
  {
   "cell_type": "code",
   "execution_count": 14,
   "id": "eba7d84a",
   "metadata": {},
   "outputs": [],
   "source": [
    "# Decoder\n",
    "decoder = Sequential()\n",
    "decoder.add(Dense(50,input_shape=[25],activation='relu'))\n",
    "decoder.add(Dense(100,activation='relu'))\n",
    "decoder.add(Dense(200,activation='relu'))\n",
    "decoder.add(Dense(400,activation='relu'))\n",
    "decoder.add(Dense(784,activation='sigmoid'))\n",
    "decoder.add(Reshape([28,28]))"
   ]
  },
  {
   "cell_type": "code",
   "execution_count": 15,
   "id": "ec90422e",
   "metadata": {},
   "outputs": [],
   "source": [
    "autoencoder = Sequential([encoder,decoder])"
   ]
  },
  {
   "cell_type": "code",
   "execution_count": 16,
   "id": "5aea32d2",
   "metadata": {},
   "outputs": [],
   "source": [
    "autoencoder.compile(loss='binary_crossentropy',optimizer=SGD(learning_rate=1.5),metrics=['accuracy'])"
   ]
  },
  {
   "cell_type": "code",
   "execution_count": 17,
   "id": "26d046d8",
   "metadata": {},
   "outputs": [
    {
     "name": "stdout",
     "output_type": "stream",
     "text": [
      "Epoch 1/10\n",
      "1875/1875 [==============================] - 36s 17ms/step - loss: 0.2546 - accuracy: 0.0804 - val_loss: 0.2213 - val_accuracy: 0.1196\n",
      "Epoch 2/10\n",
      "1875/1875 [==============================] - 39s 21ms/step - loss: 0.2013 - accuracy: 0.1402 - val_loss: 0.1742 - val_accuracy: 0.1797\n",
      "Epoch 3/10\n",
      "1875/1875 [==============================] - 48s 25ms/step - loss: 0.1654 - accuracy: 0.1906 - val_loss: 0.1558 - val_accuracy: 0.2060654 - accuracy: 0.\n",
      "Epoch 4/10\n",
      "1875/1875 [==============================] - 50s 27ms/step - loss: 0.1539 - accuracy: 0.2070 - val_loss: 0.1466 - val_accuracy: 0.2162\n",
      "Epoch 5/10\n",
      "1875/1875 [==============================] - 53s 28ms/step - loss: 0.1457 - accuracy: 0.2168 - val_loss: 0.1396 - val_accuracy: 0.2248\n",
      "Epoch 6/10\n",
      "1875/1875 [==============================] - 43s 23ms/step - loss: 0.1388 - accuracy: 0.2261 - val_loss: 0.1341 - val_accuracy: 0.2237\n",
      "Epoch 7/10\n",
      "1875/1875 [==============================] - 46s 24ms/step - loss: 0.1337 - accuracy: 0.2333 - val_loss: 0.1304 - val_accuracy: 0.2407\n",
      "Epoch 8/10\n",
      "1875/1875 [==============================] - 45s 24ms/step - loss: 0.1305 - accuracy: 0.2378 - val_loss: 0.1296 - val_accuracy: 0.2379\n",
      "Epoch 9/10\n",
      "1875/1875 [==============================] - 45s 24ms/step - loss: 0.1277 - accuracy: 0.2415 - val_loss: 0.1252 - val_accuracy: 0.2431\n",
      "Epoch 10/10\n",
      "1875/1875 [==============================] - 45s 24ms/step - loss: 0.1256 - accuracy: 0.2448 - val_loss: 0.1244 - val_accuracy: 0.2353\n"
     ]
    },
    {
     "data": {
      "text/plain": [
       "<tensorflow.python.keras.callbacks.History at 0x2b401512850>"
      ]
     },
     "execution_count": 17,
     "metadata": {},
     "output_type": "execute_result"
    }
   ],
   "source": [
    "autoencoder.fit(X_train, X_train, epochs=10, validation_data=(X_test, X_test))"
   ]
  },
  {
   "cell_type": "code",
   "execution_count": 18,
   "id": "d2d9f57f",
   "metadata": {},
   "outputs": [],
   "source": [
    "passed_images = autoencoder.predict(X_test[:10])"
   ]
  },
  {
   "cell_type": "code",
   "execution_count": 19,
   "id": "0dd82469",
   "metadata": {},
   "outputs": [
    {
     "data": {
      "text/plain": [
       "(10, 28, 28)"
      ]
     },
     "execution_count": 19,
     "metadata": {},
     "output_type": "execute_result"
    }
   ],
   "source": [
    "passed_images.shape"
   ]
  },
  {
   "cell_type": "code",
   "execution_count": 23,
   "id": "7d16bf92",
   "metadata": {},
   "outputs": [
    {
     "name": "stdout",
     "output_type": "stream",
     "text": [
      "Original Image\n"
     ]
    },
    {
     "data": {
      "image/png": "[encoded data removed]",
      "text/plain": [
       "<Figure size 432x288 with 1 Axes>"
      ]
     },
     "metadata": {
      "needs_background": "light"
     },
     "output_type": "display_data"
    },
    {
     "name": "stdout",
     "output_type": "stream",
     "text": [
      "After Autoencoded Image\n"
     ]
    },
    {
     "data": {
      "image/png": "[encoded data removed]",
      "text/plain": [
       "<Figure size 432x288 with 1 Axes>"
      ]
     },
     "metadata": {
      "needs_background": "light"
     },
     "output_type": "display_data"
    }
   ],
   "source": [
    "n = 5\n",
    "\n",
    "print('Original Image')\n",
    "plt.imshow(X_test[n])\n",
    "plt.show()\n",
    "\n",
    "print('After Autoencoded Image')\n",
    "plt.imshow(passed_images[n])\n",
    "plt.show()"
   ]
  },
  {
   "cell_type": "code",
   "execution_count": null,
   "id": "de738e84",
   "metadata": {},
   "outputs": [],
   "source": [
    "# Adding noise"
   ]
  },
  {
   "cell_type": "code",
   "execution_count": 24,
   "id": "6e68248f",
   "metadata": {},
   "outputs": [],
   "source": [
    "from tensorflow.keras.layers import GaussianNoise"
   ]
  },
  {
   "cell_type": "code",
   "execution_count": 25,
   "id": "15dc2b2f",
   "metadata": {},
   "outputs": [],
   "source": [
    "sample = GaussianNoise(0.2)"
   ]
  },
  {
   "cell_type": "code",
   "execution_count": 26,
   "id": "db7808b6",
   "metadata": {},
   "outputs": [],
   "source": [
    "noisey = sample(X_test[:10], training=True)"
   ]
  },
  {
   "cell_type": "code",
   "execution_count": 28,
   "id": "30516db4",
   "metadata": {},
   "outputs": [
    {
     "name": "stdout",
     "output_type": "stream",
     "text": [
      "Original Image\n"
     ]
    },
    {
     "data": {
      "image/png": "[encoded data removed]",
      "text/plain": [
       "<Figure size 432x288 with 1 Axes>"
      ]
     },
     "metadata": {
      "needs_background": "light"
     },
     "output_type": "display_data"
    },
    {
     "name": "stdout",
     "output_type": "stream",
     "text": [
      "After Noise Added\n"
     ]
    },
    {
     "data": {
      "image/png": "[encoded data removed]",
      "text/plain": [
       "<Figure size 432x288 with 1 Axes>"
      ]
     },
     "metadata": {
      "needs_background": "light"
     },
     "output_type": "display_data"
    }
   ],
   "source": [
    "n = 0\n",
    "\n",
    "print('Original Image')\n",
    "plt.imshow(X_test[n])\n",
    "plt.show()\n",
    "\n",
    "print('After Noise Added')\n",
    "plt.imshow(noisey[n])\n",
    "plt.show()"
   ]
  },
  {
   "cell_type": "markdown",
   "id": "c7e6e793",
   "metadata": {},
   "source": [
    "### Noise Removal Autoencoder"
   ]
  },
  {
   "cell_type": "code",
   "execution_count": 29,
   "id": "aa6e5203",
   "metadata": {},
   "outputs": [],
   "source": [
    "import tensorflow as tf"
   ]
  },
  {
   "cell_type": "code",
   "execution_count": 30,
   "id": "e9e069e4",
   "metadata": {},
   "outputs": [],
   "source": [
    "# Encoder\n",
    "\n",
    "tf.random.set_seed(101)\n",
    "np.random.seed(101)\n",
    "\n",
    "encoder = Sequential()\n",
    "encoder.add(Flatten(input_shape=[28,28]))\n",
    "\n",
    "encoder.add(GaussianNoise(0.2))\n",
    "\n",
    "encoder.add(Dense(400,activation='relu'))\n",
    "encoder.add(Dense(200,activation='relu'))\n",
    "encoder.add(Dense(100,activation='relu'))\n",
    "encoder.add(Dense(50,activation='relu'))\n",
    "encoder.add(Dense(25,activation='relu'))"
   ]
  },
  {
   "cell_type": "code",
   "execution_count": 31,
   "id": "9da3896c",
   "metadata": {},
   "outputs": [],
   "source": [
    "# Decoder\n",
    "decoder = Sequential()\n",
    "decoder.add(Dense(50,input_shape=[25],activation='relu'))\n",
    "decoder.add(Dense(100,activation='relu'))\n",
    "decoder.add(Dense(200,activation='relu'))\n",
    "decoder.add(Dense(400,activation='relu'))\n",
    "decoder.add(Dense(784,activation='sigmoid'))\n",
    "decoder.add(Reshape([28,28]))"
   ]
  },
  {
   "cell_type": "code",
   "execution_count": 32,
   "id": "e624ef8c",
   "metadata": {},
   "outputs": [],
   "source": [
    "noise_remover = Sequential([encoder, decoder])"
   ]
  },
  {
   "cell_type": "code",
   "execution_count": 33,
   "id": "91ab745e",
   "metadata": {},
   "outputs": [],
   "source": [
    "noise_remover.compile(loss='binary_crossentropy', optimizer='adam', metrics=['accuracy'])"
   ]
  },
  {
   "cell_type": "code",
   "execution_count": 34,
   "id": "ef4c1297",
   "metadata": {},
   "outputs": [
    {
     "name": "stdout",
     "output_type": "stream",
     "text": [
      "Epoch 1/10\n",
      "1875/1875 [==============================] - 38s 19ms/step - loss: 0.1700 - accuracy: 0.1822\n",
      "Epoch 2/10\n",
      "1875/1875 [==============================] - 41s 22ms/step - loss: 0.1284 - accuracy: 0.2333\n",
      "Epoch 3/10\n",
      "1875/1875 [==============================] - 41s 22ms/step - loss: 0.1208 - accuracy: 0.2450\n",
      "Epoch 4/10\n",
      "1875/1875 [==============================] - 40s 21ms/step - loss: 0.1163 - accuracy: 0.2530\n",
      "Epoch 5/10\n",
      "1875/1875 [==============================] - 63s 33ms/step - loss: 0.1129 - accuracy: 0.25870s - loss: 0.1\n",
      "Epoch 6/10\n",
      "1875/1875 [==============================] - 63s 34ms/step - loss: 0.1097 - accuracy: 0.2639\n",
      "Epoch 7/10\n",
      "1875/1875 [==============================] - 62s 33ms/step - loss: 0.1072 - accuracy: 0.2691\n",
      "Epoch 8/10\n",
      "1875/1875 [==============================] - 56s 30ms/step - loss: 0.1053 - accuracy: 0.2722\n",
      "Epoch 9/10\n",
      "1875/1875 [==============================] - 52s 28ms/step - loss: 0.1040 - accuracy: 0.2745\n",
      "Epoch 10/10\n",
      "1875/1875 [==============================] - 48s 26ms/step - loss: 0.1030 - accuracy: 0.27690s - loss: 0.1030 - ac\n"
     ]
    },
    {
     "data": {
      "text/plain": [
       "<tensorflow.python.keras.callbacks.History at 0x2b402d6b760>"
      ]
     },
     "execution_count": 34,
     "metadata": {},
     "output_type": "execute_result"
    }
   ],
   "source": [
    "noise_remover.fit(X_train,X_train,epochs=10)"
   ]
  },
  {
   "cell_type": "code",
   "execution_count": 37,
   "id": "95a261c8",
   "metadata": {},
   "outputs": [],
   "source": [
    "ten_noisey_images = sample(X_test[:10], training=True)"
   ]
  },
  {
   "cell_type": "code",
   "execution_count": 38,
   "id": "c3ddee3d",
   "metadata": {},
   "outputs": [],
   "source": [
    "denoised_images = noise_remover(ten_noisey_images)"
   ]
  },
  {
   "cell_type": "code",
   "execution_count": 43,
   "id": "43071351",
   "metadata": {},
   "outputs": [
    {
     "name": "stdout",
     "output_type": "stream",
     "text": [
      "Original Image\n"
     ]
    },
    {
     "data": {
      "image/png": "[encoded data removed]",
      "text/plain": [
       "<Figure size 432x288 with 1 Axes>"
      ]
     },
     "metadata": {
      "needs_background": "light"
     },
     "output_type": "display_data"
    },
    {
     "name": "stdout",
     "output_type": "stream",
     "text": [
      "After Noise Added\n"
     ]
    },
    {
     "data": {
      "image/png": "[encoded data removed]",
      "text/plain": [
       "<Figure size 432x288 with 1 Axes>"
      ]
     },
     "metadata": {
      "needs_background": "light"
     },
     "output_type": "display_data"
    },
    {
     "name": "stdout",
     "output_type": "stream",
     "text": [
      "After Noise Removal\n"
     ]
    },
    {
     "data": {
      "image/png": "[encoded data removed]",
      "text/plain": [
       "<Figure size 432x288 with 1 Axes>"
      ]
     },
     "metadata": {
      "needs_background": "light"
     },
     "output_type": "display_data"
    }
   ],
   "source": [
    "n = 6\n",
    "\n",
    "print('Original Image')\n",
    "plt.imshow(X_test[n])\n",
    "plt.show()\n",
    "\n",
    "print('After Noise Added')\n",
    "plt.imshow(ten_noisey_images[n])\n",
    "plt.show()\n",
    "\n",
    "print('After Noise Removal')\n",
    "plt.imshow(denoised_images[n])\n",
    "plt.show()"
   ]
  },
  {
   "cell_type": "code",
   "execution_count": null,
   "id": "8e93b236",
   "metadata": {},
   "outputs": [],
   "source": []
  }
 ],
 "metadata": {
  "kernelspec": {
   "display_name": "Python 3",
   "language": "python",
   "name": "python3"
  },
  "language_info": {
   "codemirror_mode": {
    "name": "ipython",
    "version": 3
   },
   "file_extension": ".py",
   "mimetype": "text/x-python",
   "name": "python",
   "nbconvert_exporter": "python",
   "pygments_lexer": "ipython3",
   "version": "3.8.8"
  }
 },
 "nbformat": 4,
 "nbformat_minor": 5
}
